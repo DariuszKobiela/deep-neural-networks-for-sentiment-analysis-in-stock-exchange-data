{
 "cells": [
  {
   "cell_type": "code",
   "execution_count": 1,
   "metadata": {},
   "outputs": [],
   "source": [
    "# https://youtu.be/tepxdcepTbY\n",
    "import numpy as np\n",
    "from tensorflow.keras.models import Sequential\n",
    "from tensorflow.keras.layers import LSTM\n",
    "from tensorflow.keras.layers import Dense, Dropout\n",
    "import pandas as pd\n",
    "from matplotlib import pyplot as plt\n",
    "from sklearn.preprocessing import StandardScaler\n",
    "import seaborn as sns\n",
    "#from datetime import datetime\n"
   ]
  },
  {
   "cell_type": "code",
   "execution_count": 24,
   "metadata": {
    "scrolled": true
   },
   "outputs": [
    {
     "name": "stdout",
     "output_type": "stream",
     "text": [
      "         Date       Open       High        Low      Close  Adj Close  Volume\n",
      "0  2010-05-03  92.900002  92.900002  92.900002  92.900002  81.542542     100\n",
      "1  2010-05-04  90.000000  91.250000  89.250000  91.250000  80.094269     200\n",
      "2  2010-05-05  86.750000  87.199997  86.599998  86.599998  76.012749     100\n",
      "3  2010-05-06  87.000000  87.000000  84.500000  84.500000  74.169487     200\n",
      "4  2010-05-07  84.599998  84.599998  83.500000  83.750000  73.511169     200\n"
     ]
    }
   ],
   "source": [
    "df = pd.read_csv('VLKAF_yeahoo.csv')\n",
    "print(df.head())"
   ]
  },
  {
   "cell_type": "code",
   "execution_count": 78,
   "metadata": {
    "scrolled": true
   },
   "outputs": [
    {
     "name": "stdout",
     "output_type": "stream",
     "text": [
      "    timestamp   avg_price  dividend_yield  earnings_yield  enterprise_value  \\\n",
      "0  2015-03-02  250.675000          0.0219          0.1160      2.115300e+11   \n",
      "1  2015-03-03  247.416667          0.0222          0.1176      2.098400e+11   \n",
      "2  2015-03-04  244.275000          0.0223          0.1180      2.094400e+11   \n",
      "3  2015-03-05  245.522100          0.0223          0.1180      2.094400e+11   \n",
      "4  2015-03-06  247.700000          0.0221          0.1174      2.100800e+11   \n",
      "\n",
      "   steel_price  sentiment  \n",
      "0      939.740        1.0  \n",
      "1      941.615        1.0  \n",
      "2      919.085        1.0  \n",
      "3      918.080        1.0  \n",
      "4      901.390        1.0  \n"
     ]
    }
   ],
   "source": [
    "df = pd.read_csv('VLKAF_final_data_with_sentiment.csv')\n",
    "df = df.iloc[: , 1:]\n",
    "print(df.head())"
   ]
  },
  {
   "cell_type": "code",
   "execution_count": 79,
   "metadata": {},
   "outputs": [
    {
     "name": "stdout",
     "output_type": "stream",
     "text": [
      "['avg_price', 'dividend_yield', 'earnings_yield', 'enterprise_value', 'steel_price', 'sentiment']\n",
      "0   2015-03-02\n",
      "1   2015-03-03\n",
      "Name: timestamp, dtype: datetime64[ns]\n",
      "2420   2021-10-16\n",
      "2421   2021-10-17\n",
      "2422   2021-10-18\n",
      "2423   2021-10-19\n",
      "2424   2021-10-20\n",
      "2425   2021-10-21\n",
      "2426   2021-10-22\n",
      "2427   2021-10-23\n",
      "2428   2021-10-24\n",
      "2429   2021-10-25\n",
      "Name: timestamp, dtype: datetime64[ns]\n"
     ]
    }
   ],
   "source": [
    "#Separate dates for future plotting\n",
    "train_dates = pd.to_datetime(df['timestamp'])\n",
    "#print(train_dates.tail(15)) #Check last few dates. \n",
    "\n",
    "#Variables for training\n",
    "cols = list(df)[1:]\n",
    "#Date and volume columns are not used in training. \n",
    "print(cols) #['Open', 'High', 'Low', 'Close', 'Adj Close']\n",
    "print(train_dates[:2])\n",
    "print(train_dates[-10:])"
   ]
  },
  {
   "cell_type": "code",
   "execution_count": 1,
   "metadata": {},
   "outputs": [
    {
     "ename": "NameError",
     "evalue": "name 'df' is not defined",
     "output_type": "error",
     "traceback": [
      "\u001b[1;31m---------------------------------------------------------------------------\u001b[0m",
      "\u001b[1;31mNameError\u001b[0m                                 Traceback (most recent call last)",
      "\u001b[1;32m<ipython-input-1-01a6b9ebf913>\u001b[0m in \u001b[0;36m<module>\u001b[1;34m\u001b[0m\n\u001b[1;32m----> 1\u001b[1;33m \u001b[0mdf\u001b[0m\u001b[1;33m[\u001b[0m\u001b[0mcols\u001b[0m\u001b[1;33m]\u001b[0m\u001b[1;33m\u001b[0m\u001b[1;33m\u001b[0m\u001b[0m\n\u001b[0m",
      "\u001b[1;31mNameError\u001b[0m: name 'df' is not defined"
     ]
    }
   ],
   "source": [
    "df[cols]"
   ]
  },
  {
   "cell_type": "code",
   "execution_count": 80,
   "metadata": {
    "scrolled": true
   },
   "outputs": [
    {
     "name": "stdout",
     "output_type": "stream",
     "text": [
      "[[ 1.11299567  0.08832555  0.26691575  0.21171607 -0.42760114 -0.2119302 ]\n",
      " [ 1.05453271  0.11119716  0.29096065  0.16935568 -0.42147288 -0.2119302 ]\n",
      " [ 0.99816305  0.11882104  0.29697188  0.15932956 -0.49511003 -0.2119302 ]\n",
      " ...\n",
      " [ 2.44781449  1.05909867 -0.9558678   0.618192    1.65296703 -0.2119302 ]\n",
      " [ 2.49773072  1.03876835 -0.95987529  0.63590482  1.69307035  6.54441856]\n",
      " [ 2.54764695  1.01843802 -0.96388277  0.65361765  1.73317368  3.16624418]]\n"
     ]
    }
   ],
   "source": [
    "#New dataframe with only training data (without timestamp)\n",
    "df_for_training = df[cols].astype(float)\n",
    "\n",
    "# df_for_plot=df_for_training.tail(5000)\n",
    "# df_for_plot.plot.line()\n",
    "\n",
    "#LSTM uses sigmoid and tanh that are sensitive to magnitude so values need to be normalized\n",
    "# normalize the dataset\n",
    "scaler = StandardScaler()\n",
    "scaler = scaler.fit(df_for_training)\n",
    "df_for_training_scaled = scaler.transform(df_for_training)\n",
    "print(df_for_training_scaled)"
   ]
  },
  {
   "cell_type": "code",
   "execution_count": 81,
   "metadata": {},
   "outputs": [
    {
     "data": {
      "text/plain": [
       "2430"
      ]
     },
     "execution_count": 81,
     "metadata": {},
     "output_type": "execute_result"
    }
   ],
   "source": [
    "len(df_for_training_scaled)"
   ]
  },
  {
   "cell_type": "code",
   "execution_count": 82,
   "metadata": {
    "scrolled": true
   },
   "outputs": [
    {
     "name": "stdout",
     "output_type": "stream",
     "text": [
      "trainX shape == (2416, 14, 6).\n",
      "trainY shape == (2416, 1).\n"
     ]
    }
   ],
   "source": [
    "#As required for LSTM networks, we require to reshape an input data into n_samples x timesteps x n_features. \n",
    "#In this example, the n_features is 5. We will make timesteps = 14 (past days data used for training). \n",
    "\n",
    "#Empty lists to be populated using formatted training data\n",
    "trainX = []\n",
    "trainY = []\n",
    "\n",
    "n_future = 1   # Number of days we want to look into the future based on the past days.\n",
    "n_past = 14  # Number of past days we want to use to predict the future.\n",
    "\n",
    "#Reformat input data into a shape: (n_samples x timesteps x n_features)\n",
    "for i in range(n_past, len(df_for_training_scaled) - n_future +1):\n",
    "    trainX.append(df_for_training_scaled[i - n_past:i, 0:df_for_training.shape[1]])\n",
    "    trainY.append(df_for_training_scaled[i :i + n_future, 0])\n",
    "\n",
    "trainX, trainY = np.array(trainX), np.array(trainY)\n",
    "\n",
    "print('trainX shape == {}.'.format(trainX.shape))\n",
    "print('trainY shape == {}.'.format(trainY.shape))"
   ]
  },
  {
   "cell_type": "code",
   "execution_count": 83,
   "metadata": {},
   "outputs": [
    {
     "data": {
      "text/plain": [
       "array([[1.29383256],\n",
       "       [1.32516686],\n",
       "       [1.21827385],\n",
       "       ...,\n",
       "       [2.44781449],\n",
       "       [2.49773072],\n",
       "       [2.54764695]])"
      ]
     },
     "execution_count": 83,
     "metadata": {},
     "output_type": "execute_result"
    }
   ],
   "source": [
    "trainY"
   ]
  },
  {
   "cell_type": "code",
   "execution_count": 97,
   "metadata": {
    "scrolled": true
   },
   "outputs": [
    {
     "name": "stdout",
     "output_type": "stream",
     "text": [
      "Epoch 1/100\n",
      "136/136 [==============================] - 2s 16ms/step - loss: 0.0644 - val_loss: 0.3600\n",
      "Epoch 2/100\n",
      "136/136 [==============================] - 2s 11ms/step - loss: 0.0219 - val_loss: 0.8721\n",
      "Epoch 3/100\n",
      "136/136 [==============================] - 1s 11ms/step - loss: 0.0198 - val_loss: 2.1900\n",
      "Epoch 4/100\n",
      "136/136 [==============================] - 1s 11ms/step - loss: 0.0167 - val_loss: 3.0290\n",
      "Epoch 5/100\n",
      "136/136 [==============================] - 1s 11ms/step - loss: 0.0150 - val_loss: 1.5026\n",
      "Epoch 6/100\n",
      "136/136 [==============================] - 1s 11ms/step - loss: 0.0144 - val_loss: 0.9967\n",
      "Epoch 7/100\n",
      "136/136 [==============================] - 1s 11ms/step - loss: 0.0132 - val_loss: 0.4833\n",
      "Epoch 8/100\n",
      "136/136 [==============================] - 2s 11ms/step - loss: 0.0123 - val_loss: 0.2211\n",
      "Epoch 9/100\n",
      "136/136 [==============================] - 2s 11ms/step - loss: 0.0113 - val_loss: 0.2875\n",
      "Epoch 10/100\n",
      "136/136 [==============================] - 2s 12ms/step - loss: 0.0108 - val_loss: 0.0904\n",
      "Epoch 11/100\n",
      "136/136 [==============================] - 2s 12ms/step - loss: 0.0106 - val_loss: 0.1121\n",
      "Epoch 12/100\n",
      "136/136 [==============================] - 2s 12ms/step - loss: 0.0099 - val_loss: 0.0757\n",
      "Epoch 13/100\n",
      "136/136 [==============================] - 2s 12ms/step - loss: 0.0093 - val_loss: 0.0620\n",
      "Epoch 14/100\n",
      "136/136 [==============================] - 2s 11ms/step - loss: 0.0100 - val_loss: 0.0981\n",
      "Epoch 15/100\n",
      "136/136 [==============================] - 2s 11ms/step - loss: 0.0097 - val_loss: 0.2510\n",
      "Epoch 16/100\n",
      "136/136 [==============================] - 2s 12ms/step - loss: 0.0096 - val_loss: 0.1736\n",
      "Epoch 17/100\n",
      "136/136 [==============================] - 2s 12ms/step - loss: 0.0094 - val_loss: 0.1359\n",
      "Epoch 18/100\n",
      "136/136 [==============================] - 2s 11ms/step - loss: 0.0092 - val_loss: 0.1807\n",
      "Epoch 19/100\n",
      "136/136 [==============================] - 2s 11ms/step - loss: 0.0090 - val_loss: 0.0478\n",
      "Epoch 20/100\n",
      "136/136 [==============================] - 2s 11ms/step - loss: 0.0087 - val_loss: 0.3560\n",
      "Epoch 21/100\n",
      "136/136 [==============================] - 2s 11ms/step - loss: 0.0089 - val_loss: 0.1404\n",
      "Epoch 22/100\n",
      "136/136 [==============================] - 2s 12ms/step - loss: 0.0089 - val_loss: 0.2348\n",
      "Epoch 23/100\n",
      "136/136 [==============================] - 2s 11ms/step - loss: 0.0081 - val_loss: 0.1405\n",
      "Epoch 24/100\n",
      "136/136 [==============================] - 2s 11ms/step - loss: 0.0082 - val_loss: 0.0660\n",
      "Epoch 25/100\n",
      "136/136 [==============================] - 2s 11ms/step - loss: 0.0088 - val_loss: 0.1029\n",
      "Epoch 26/100\n",
      "136/136 [==============================] - 2s 12ms/step - loss: 0.0085 - val_loss: 0.1005\n",
      "Epoch 27/100\n",
      "136/136 [==============================] - 2s 12ms/step - loss: 0.0079 - val_loss: 0.2640\n",
      "Epoch 28/100\n",
      "136/136 [==============================] - 2s 12ms/step - loss: 0.0080 - val_loss: 0.1493\n",
      "Epoch 29/100\n",
      "136/136 [==============================] - 2s 12ms/step - loss: 0.0076 - val_loss: 0.1150\n",
      "Epoch 30/100\n",
      "136/136 [==============================] - 2s 14ms/step - loss: 0.0072 - val_loss: 1.1034\n",
      "Epoch 31/100\n",
      "136/136 [==============================] - 2s 12ms/step - loss: 0.0080 - val_loss: 0.1258\n",
      "Epoch 32/100\n",
      "136/136 [==============================] - 2s 11ms/step - loss: 0.0077 - val_loss: 0.1593\n",
      "Epoch 33/100\n",
      "136/136 [==============================] - 1s 11ms/step - loss: 0.0078 - val_loss: 0.3482\n",
      "Epoch 34/100\n",
      "136/136 [==============================] - 2s 11ms/step - loss: 0.0078 - val_loss: 0.1840\n",
      "Epoch 35/100\n",
      "136/136 [==============================] - 2s 11ms/step - loss: 0.0071 - val_loss: 0.0647\n",
      "Epoch 36/100\n",
      "136/136 [==============================] - 2s 12ms/step - loss: 0.0080 - val_loss: 0.0660\n",
      "Epoch 37/100\n",
      "136/136 [==============================] - 1s 11ms/step - loss: 0.0078 - val_loss: 0.2637\n",
      "Epoch 38/100\n",
      "136/136 [==============================] - 2s 12ms/step - loss: 0.0070 - val_loss: 0.2400\n",
      "Epoch 39/100\n",
      "136/136 [==============================] - 2s 11ms/step - loss: 0.0074 - val_loss: 0.0421\n",
      "Epoch 40/100\n",
      "136/136 [==============================] - 2s 11ms/step - loss: 0.0077 - val_loss: 0.0520\n",
      "Epoch 41/100\n",
      "136/136 [==============================] - 2s 11ms/step - loss: 0.0073 - val_loss: 0.0791\n",
      "Epoch 42/100\n",
      "136/136 [==============================] - 2s 11ms/step - loss: 0.0072 - val_loss: 0.1345\n",
      "Epoch 43/100\n",
      "136/136 [==============================] - 1s 11ms/step - loss: 0.0072 - val_loss: 0.0543\n",
      "Epoch 44/100\n",
      "136/136 [==============================] - 2s 12ms/step - loss: 0.0069 - val_loss: 0.0371\n",
      "Epoch 45/100\n",
      "136/136 [==============================] - 2s 12ms/step - loss: 0.0066 - val_loss: 0.0393\n",
      "Epoch 46/100\n",
      "136/136 [==============================] - 2s 11ms/step - loss: 0.0074 - val_loss: 0.2229\n",
      "Epoch 47/100\n",
      "136/136 [==============================] - 2s 11ms/step - loss: 0.0071 - val_loss: 0.0763\n",
      "Epoch 48/100\n",
      "136/136 [==============================] - 1s 11ms/step - loss: 0.0073 - val_loss: 0.0389\n",
      "Epoch 49/100\n",
      "136/136 [==============================] - 2s 12ms/step - loss: 0.0070 - val_loss: 0.2516\n",
      "Epoch 50/100\n",
      "136/136 [==============================] - 2s 11ms/step - loss: 0.0071 - val_loss: 0.0977\n",
      "Epoch 51/100\n",
      "136/136 [==============================] - 2s 11ms/step - loss: 0.0069 - val_loss: 0.0514\n",
      "Epoch 52/100\n",
      "136/136 [==============================] - 2s 11ms/step - loss: 0.0070 - val_loss: 0.1678\n",
      "Epoch 53/100\n",
      "136/136 [==============================] - 2s 11ms/step - loss: 0.0075 - val_loss: 0.0526\n",
      "Epoch 54/100\n",
      "136/136 [==============================] - 2s 12ms/step - loss: 0.0069 - val_loss: 0.0744\n",
      "Epoch 55/100\n",
      "136/136 [==============================] - 2s 11ms/step - loss: 0.0074 - val_loss: 0.0844\n",
      "Epoch 56/100\n",
      "136/136 [==============================] - 1s 11ms/step - loss: 0.0069 - val_loss: 0.0564\n",
      "Epoch 57/100\n",
      "136/136 [==============================] - 2s 12ms/step - loss: 0.0070 - val_loss: 0.1596\n",
      "Epoch 58/100\n",
      "136/136 [==============================] - 1s 11ms/step - loss: 0.0076 - val_loss: 0.0462\n",
      "Epoch 59/100\n",
      "136/136 [==============================] - 2s 11ms/step - loss: 0.0068 - val_loss: 0.0468\n",
      "Epoch 60/100\n",
      "136/136 [==============================] - 2s 11ms/step - loss: 0.0071 - val_loss: 0.0356\n",
      "Epoch 61/100\n",
      "136/136 [==============================] - 2s 11ms/step - loss: 0.0070 - val_loss: 0.0465\n",
      "Epoch 62/100\n",
      "136/136 [==============================] - 2s 12ms/step - loss: 0.0067 - val_loss: 0.0440\n",
      "Epoch 63/100\n",
      "136/136 [==============================] - 2s 11ms/step - loss: 0.0065 - val_loss: 0.0384\n",
      "Epoch 64/100\n",
      "136/136 [==============================] - 2s 11ms/step - loss: 0.0066 - val_loss: 0.0665\n",
      "Epoch 65/100\n",
      "136/136 [==============================] - 1s 11ms/step - loss: 0.0064 - val_loss: 0.1547\n",
      "Epoch 66/100\n",
      "136/136 [==============================] - 2s 12ms/step - loss: 0.0070 - val_loss: 0.0773\n",
      "Epoch 67/100\n",
      "136/136 [==============================] - 2s 12ms/step - loss: 0.0068 - val_loss: 0.0613\n",
      "Epoch 68/100\n",
      "136/136 [==============================] - 2s 12ms/step - loss: 0.0071 - val_loss: 0.0948\n",
      "Epoch 69/100\n",
      "136/136 [==============================] - 2s 11ms/step - loss: 0.0068 - val_loss: 0.0547\n",
      "Epoch 70/100\n",
      "136/136 [==============================] - 2s 11ms/step - loss: 0.0068 - val_loss: 0.0842\n",
      "Epoch 71/100\n",
      "136/136 [==============================] - 2s 11ms/step - loss: 0.0065 - val_loss: 0.0402\n",
      "Epoch 72/100\n",
      "136/136 [==============================] - 2s 12ms/step - loss: 0.0075 - val_loss: 0.0911\n",
      "Epoch 73/100\n",
      "136/136 [==============================] - 2s 12ms/step - loss: 0.0063 - val_loss: 0.0506\n",
      "Epoch 74/100\n",
      "136/136 [==============================] - 2s 11ms/step - loss: 0.0067 - val_loss: 0.0414\n",
      "Epoch 75/100\n",
      "136/136 [==============================] - 2s 11ms/step - loss: 0.0069 - val_loss: 0.0742\n",
      "Epoch 76/100\n",
      "136/136 [==============================] - 2s 12ms/step - loss: 0.0065 - val_loss: 0.0542\n",
      "Epoch 77/100\n",
      "136/136 [==============================] - 1s 11ms/step - loss: 0.0064 - val_loss: 0.0942\n",
      "Epoch 78/100\n",
      "136/136 [==============================] - 1s 11ms/step - loss: 0.0073 - val_loss: 0.0549\n",
      "Epoch 79/100\n",
      "136/136 [==============================] - 2s 12ms/step - loss: 0.0063 - val_loss: 0.1194\n",
      "Epoch 80/100\n",
      "136/136 [==============================] - 2s 12ms/step - loss: 0.0064 - val_loss: 0.0941\n",
      "Epoch 81/100\n",
      "136/136 [==============================] - 2s 12ms/step - loss: 0.0068 - val_loss: 0.0702\n",
      "Epoch 82/100\n",
      "136/136 [==============================] - 2s 11ms/step - loss: 0.0067 - val_loss: 0.0454\n",
      "Epoch 83/100\n",
      "136/136 [==============================] - 2s 12ms/step - loss: 0.0068 - val_loss: 0.0515\n",
      "Epoch 84/100\n",
      "136/136 [==============================] - 2s 12ms/step - loss: 0.0063 - val_loss: 0.0425\n",
      "Epoch 85/100\n",
      "136/136 [==============================] - 2s 11ms/step - loss: 0.0072 - val_loss: 0.0737\n",
      "Epoch 86/100\n",
      "136/136 [==============================] - 2s 12ms/step - loss: 0.0077 - val_loss: 0.0490\n",
      "Epoch 87/100\n",
      "136/136 [==============================] - 2s 12ms/step - loss: 0.0070 - val_loss: 0.0536\n",
      "Epoch 88/100\n",
      "136/136 [==============================] - 2s 12ms/step - loss: 0.0069 - val_loss: 0.0965\n",
      "Epoch 89/100\n",
      "136/136 [==============================] - 2s 12ms/step - loss: 0.0060 - val_loss: 0.0675\n",
      "Epoch 90/100\n",
      "136/136 [==============================] - 2s 11ms/step - loss: 0.0067 - val_loss: 0.0589\n",
      "Epoch 91/100\n",
      "136/136 [==============================] - 2s 11ms/step - loss: 0.0064 - val_loss: 0.1427\n",
      "Epoch 92/100\n",
      "136/136 [==============================] - 2s 12ms/step - loss: 0.0070 - val_loss: 0.1149\n",
      "Epoch 93/100\n",
      "136/136 [==============================] - 2s 12ms/step - loss: 0.0066 - val_loss: 0.1292\n",
      "Epoch 94/100\n",
      "136/136 [==============================] - 2s 11ms/step - loss: 0.0065 - val_loss: 0.0692\n",
      "Epoch 95/100\n",
      "136/136 [==============================] - 1s 10ms/step - loss: 0.0062 - val_loss: 0.0884\n",
      "Epoch 96/100\n",
      "136/136 [==============================] - 2s 11ms/step - loss: 0.0068 - val_loss: 0.0824\n",
      "Epoch 97/100\n",
      "136/136 [==============================] - 2s 11ms/step - loss: 0.0071 - val_loss: 0.0469\n",
      "Epoch 98/100\n",
      "136/136 [==============================] - 2s 12ms/step - loss: 0.0065 - val_loss: 0.1251\n",
      "Epoch 99/100\n",
      "136/136 [==============================] - 2s 12ms/step - loss: 0.0068 - val_loss: 0.0703\n",
      "Epoch 100/100\n",
      "136/136 [==============================] - 2s 11ms/step - loss: 0.0061 - val_loss: 0.0527\n"
     ]
    },
    {
     "data": {
      "text/plain": [
       "<matplotlib.legend.Legend at 0x286246fdee0>"
      ]
     },
     "execution_count": 97,
     "metadata": {},
     "output_type": "execute_result"
    },
    {
     "data": {
      "image/png": "[encoded data removed]",
      "text/plain": [
       "<Figure size 432x288 with 1 Axes>"
      ]
     },
     "metadata": {
      "needs_background": "light"
     },
     "output_type": "display_data"
    }
   ],
   "source": [
    "# define the Autoencoder model\n",
    "\n",
    "model = Sequential()\n",
    "model.add(LSTM(64, activation='relu', input_shape=(trainX.shape[1], trainX.shape[2]), return_sequences=True))\n",
    "model.add(LSTM(32, activation='relu', return_sequences=False))\n",
    "model.add(Dropout(0.2))\n",
    "model.add(Dense(trainY.shape[1]))\n",
    "model.compile(optimizer='adam', loss='mse')\n",
    "\n",
    "# fit the model\n",
    "history = model.fit(trainX, trainY, epochs=100, batch_size=16, validation_split=0.1, verbose=1)\n",
    "\n",
    "plt.plot(history.history['loss'], label='Training loss')\n",
    "plt.plot(history.history['val_loss'], label='Validation loss')\n",
    "plt.legend()"
   ]
  },
  {
   "cell_type": "code",
   "execution_count": 109,
   "metadata": {
    "scrolled": true
   },
   "outputs": [
    {
     "name": "stdout",
     "output_type": "stream",
     "text": [
      "[Timestamp('2021-10-10 00:00:00', freq='D'), Timestamp('2021-10-11 00:00:00', freq='D'), Timestamp('2021-10-12 00:00:00', freq='D'), Timestamp('2021-10-13 00:00:00', freq='D'), Timestamp('2021-10-14 00:00:00', freq='D'), Timestamp('2021-10-15 00:00:00', freq='D'), Timestamp('2021-10-16 00:00:00', freq='D'), Timestamp('2021-10-17 00:00:00', freq='D'), Timestamp('2021-10-18 00:00:00', freq='D'), Timestamp('2021-10-19 00:00:00', freq='D'), Timestamp('2021-10-20 00:00:00', freq='D'), Timestamp('2021-10-21 00:00:00', freq='D'), Timestamp('2021-10-22 00:00:00', freq='D'), Timestamp('2021-10-23 00:00:00', freq='D'), Timestamp('2021-10-24 00:00:00', freq='D'), Timestamp('2021-10-25 00:00:00', freq='D')]\n"
     ]
    }
   ],
   "source": [
    "n_past = 16\n",
    "n_days_for_prediction=16  #let us predict past 15 days\n",
    "\n",
    "predict_period_dates = pd.date_range(list(train_dates)[-n_past], periods=n_days_for_prediction).tolist()\n",
    "print(predict_period_dates)"
   ]
  },
  {
   "cell_type": "code",
   "execution_count": 110,
   "metadata": {},
   "outputs": [],
   "source": [
    "#Make prediction\n",
    "prediction = model.predict(trainX[-n_days_for_prediction:]) #shape = (n, 1) where n is the n_days_for_prediction"
   ]
  },
  {
   "cell_type": "code",
   "execution_count": 111,
   "metadata": {
    "scrolled": true
   },
   "outputs": [
    {
     "data": {
      "text/plain": [
       "array([[2.1684175],\n",
       "       [2.084731 ],\n",
       "       [2.0973773],\n",
       "       [2.0033748],\n",
       "       [2.1864452],\n",
       "       [2.2175677],\n",
       "       [2.2286537],\n",
       "       [2.2066689],\n",
       "       [2.1716745],\n",
       "       [2.134303 ],\n",
       "       [2.1714778],\n",
       "       [2.2709017],\n",
       "       [2.4043918],\n",
       "       [2.3294315],\n",
       "       [2.4042134],\n",
       "       [2.417225 ]], dtype=float32)"
      ]
     },
     "execution_count": 111,
     "metadata": {},
     "output_type": "execute_result"
    }
   ],
   "source": [
    "prediction"
   ]
  },
  {
   "cell_type": "code",
   "execution_count": 112,
   "metadata": {
    "scrolled": true
   },
   "outputs": [
    {
     "data": {
      "text/plain": [
       "6"
      ]
     },
     "execution_count": 112,
     "metadata": {},
     "output_type": "execute_result"
    }
   ],
   "source": [
    "df_for_training.shape[1]"
   ]
  },
  {
   "cell_type": "code",
   "execution_count": 113,
   "metadata": {
    "scrolled": true
   },
   "outputs": [
    {
     "data": {
      "text/plain": [
       "array([[2.1684175, 2.1684175, 2.1684175, 2.1684175, 2.1684175, 2.1684175],\n",
       "       [2.084731 , 2.084731 , 2.084731 , 2.084731 , 2.084731 , 2.084731 ],\n",
       "       [2.0973773, 2.0973773, 2.0973773, 2.0973773, 2.0973773, 2.0973773],\n",
       "       [2.0033748, 2.0033748, 2.0033748, 2.0033748, 2.0033748, 2.0033748],\n",
       "       [2.1864452, 2.1864452, 2.1864452, 2.1864452, 2.1864452, 2.1864452],\n",
       "       [2.2175677, 2.2175677, 2.2175677, 2.2175677, 2.2175677, 2.2175677],\n",
       "       [2.2286537, 2.2286537, 2.2286537, 2.2286537, 2.2286537, 2.2286537],\n",
       "       [2.2066689, 2.2066689, 2.2066689, 2.2066689, 2.2066689, 2.2066689],\n",
       "       [2.1716745, 2.1716745, 2.1716745, 2.1716745, 2.1716745, 2.1716745],\n",
       "       [2.134303 , 2.134303 , 2.134303 , 2.134303 , 2.134303 , 2.134303 ],\n",
       "       [2.1714778, 2.1714778, 2.1714778, 2.1714778, 2.1714778, 2.1714778],\n",
       "       [2.2709017, 2.2709017, 2.2709017, 2.2709017, 2.2709017, 2.2709017],\n",
       "       [2.4043918, 2.4043918, 2.4043918, 2.4043918, 2.4043918, 2.4043918],\n",
       "       [2.3294315, 2.3294315, 2.3294315, 2.3294315, 2.3294315, 2.3294315],\n",
       "       [2.4042134, 2.4042134, 2.4042134, 2.4042134, 2.4042134, 2.4042134],\n",
       "       [2.417225 , 2.417225 , 2.417225 , 2.417225 , 2.417225 , 2.417225 ]],\n",
       "      dtype=float32)"
      ]
     },
     "execution_count": 113,
     "metadata": {},
     "output_type": "execute_result"
    }
   ],
   "source": [
    "#Perform inverse transformation to rescale back to original range\n",
    "#Since we used 5 variables for transform, the inverse expects same dimensions\n",
    "#Therefore, let us copy our values 5 times and discard them after inverse transform\n",
    "prediction_copies = np.repeat(prediction, df_for_training.shape[1], axis=-1)\n",
    "prediction_copies"
   ]
  },
  {
   "cell_type": "code",
   "execution_count": 114,
   "metadata": {
    "scrolled": true
   },
   "outputs": [],
   "source": [
    "y_pred_future = scaler.inverse_transform(prediction_copies)[:,0]"
   ]
  },
  {
   "cell_type": "code",
   "execution_count": 115,
   "metadata": {},
   "outputs": [
    {
     "data": {
      "text/plain": [
       "array([309.49713, 304.833  , 305.53784, 300.29877, 310.5019 , 312.23645,\n",
       "       312.8543 , 311.62903, 309.67865, 307.59583, 309.6677 , 315.20892,\n",
       "       322.64877, 318.47098, 322.63882, 323.36398], dtype=float32)"
      ]
     },
     "execution_count": 115,
     "metadata": {},
     "output_type": "execute_result"
    }
   ],
   "source": [
    "y_pred_future"
   ]
  },
  {
   "cell_type": "code",
   "execution_count": 116,
   "metadata": {
    "scrolled": true
   },
   "outputs": [
    {
     "data": {
      "text/plain": [
       "[datetime.date(2021, 10, 10),\n",
       " datetime.date(2021, 10, 11),\n",
       " datetime.date(2021, 10, 12),\n",
       " datetime.date(2021, 10, 13),\n",
       " datetime.date(2021, 10, 14),\n",
       " datetime.date(2021, 10, 15),\n",
       " datetime.date(2021, 10, 16),\n",
       " datetime.date(2021, 10, 17),\n",
       " datetime.date(2021, 10, 18),\n",
       " datetime.date(2021, 10, 19),\n",
       " datetime.date(2021, 10, 20),\n",
       " datetime.date(2021, 10, 21),\n",
       " datetime.date(2021, 10, 22),\n",
       " datetime.date(2021, 10, 23),\n",
       " datetime.date(2021, 10, 24),\n",
       " datetime.date(2021, 10, 25)]"
      ]
     },
     "execution_count": 116,
     "metadata": {},
     "output_type": "execute_result"
    }
   ],
   "source": [
    "forecast_dates = []\n",
    "for time_i in predict_period_dates:\n",
    "    forecast_dates.append(time_i.date())\n",
    "forecast_dates"
   ]
  },
  {
   "cell_type": "code",
   "execution_count": 117,
   "metadata": {
    "scrolled": true
   },
   "outputs": [
    {
     "data": {
      "text/html": [
       "<div>\n",
       "<style scoped>\n",
       "    .dataframe tbody tr th:only-of-type {\n",
       "        vertical-align: middle;\n",
       "    }\n",
       "\n",
       "    .dataframe tbody tr th {\n",
       "        vertical-align: top;\n",
       "    }\n",
       "\n",
       "    .dataframe thead th {\n",
       "        text-align: right;\n",
       "    }\n",
       "</style>\n",
       "<table border=\"1\" class=\"dataframe\">\n",
       "  <thead>\n",
       "    <tr style=\"text-align: right;\">\n",
       "      <th></th>\n",
       "      <th>Date</th>\n",
       "      <th>avg_price</th>\n",
       "    </tr>\n",
       "  </thead>\n",
       "  <tbody>\n",
       "    <tr>\n",
       "      <th>0</th>\n",
       "      <td>2021-10-10</td>\n",
       "      <td>309.497131</td>\n",
       "    </tr>\n",
       "    <tr>\n",
       "      <th>1</th>\n",
       "      <td>2021-10-11</td>\n",
       "      <td>304.833008</td>\n",
       "    </tr>\n",
       "    <tr>\n",
       "      <th>2</th>\n",
       "      <td>2021-10-12</td>\n",
       "      <td>305.537842</td>\n",
       "    </tr>\n",
       "    <tr>\n",
       "      <th>3</th>\n",
       "      <td>2021-10-13</td>\n",
       "      <td>300.298767</td>\n",
       "    </tr>\n",
       "    <tr>\n",
       "      <th>4</th>\n",
       "      <td>2021-10-14</td>\n",
       "      <td>310.501892</td>\n",
       "    </tr>\n",
       "    <tr>\n",
       "      <th>5</th>\n",
       "      <td>2021-10-15</td>\n",
       "      <td>312.236450</td>\n",
       "    </tr>\n",
       "    <tr>\n",
       "      <th>6</th>\n",
       "      <td>2021-10-16</td>\n",
       "      <td>312.854309</td>\n",
       "    </tr>\n",
       "    <tr>\n",
       "      <th>7</th>\n",
       "      <td>2021-10-17</td>\n",
       "      <td>311.629028</td>\n",
       "    </tr>\n",
       "    <tr>\n",
       "      <th>8</th>\n",
       "      <td>2021-10-18</td>\n",
       "      <td>309.678650</td>\n",
       "    </tr>\n",
       "    <tr>\n",
       "      <th>9</th>\n",
       "      <td>2021-10-19</td>\n",
       "      <td>307.595825</td>\n",
       "    </tr>\n",
       "    <tr>\n",
       "      <th>10</th>\n",
       "      <td>2021-10-20</td>\n",
       "      <td>309.667694</td>\n",
       "    </tr>\n",
       "    <tr>\n",
       "      <th>11</th>\n",
       "      <td>2021-10-21</td>\n",
       "      <td>315.208923</td>\n",
       "    </tr>\n",
       "    <tr>\n",
       "      <th>12</th>\n",
       "      <td>2021-10-22</td>\n",
       "      <td>322.648773</td>\n",
       "    </tr>\n",
       "    <tr>\n",
       "      <th>13</th>\n",
       "      <td>2021-10-23</td>\n",
       "      <td>318.470978</td>\n",
       "    </tr>\n",
       "    <tr>\n",
       "      <th>14</th>\n",
       "      <td>2021-10-24</td>\n",
       "      <td>322.638824</td>\n",
       "    </tr>\n",
       "    <tr>\n",
       "      <th>15</th>\n",
       "      <td>2021-10-25</td>\n",
       "      <td>323.363983</td>\n",
       "    </tr>\n",
       "  </tbody>\n",
       "</table>\n",
       "</div>"
      ],
      "text/plain": [
       "         Date   avg_price\n",
       "0  2021-10-10  309.497131\n",
       "1  2021-10-11  304.833008\n",
       "2  2021-10-12  305.537842\n",
       "3  2021-10-13  300.298767\n",
       "4  2021-10-14  310.501892\n",
       "5  2021-10-15  312.236450\n",
       "6  2021-10-16  312.854309\n",
       "7  2021-10-17  311.629028\n",
       "8  2021-10-18  309.678650\n",
       "9  2021-10-19  307.595825\n",
       "10 2021-10-20  309.667694\n",
       "11 2021-10-21  315.208923\n",
       "12 2021-10-22  322.648773\n",
       "13 2021-10-23  318.470978\n",
       "14 2021-10-24  322.638824\n",
       "15 2021-10-25  323.363983"
      ]
     },
     "execution_count": 117,
     "metadata": {},
     "output_type": "execute_result"
    }
   ],
   "source": [
    "df_forecast = pd.DataFrame({'Date':np.array(forecast_dates), 'avg_price':y_pred_future})\n",
    "df_forecast['Date']=pd.to_datetime(df_forecast['Date'])\n",
    "df_forecast"
   ]
  },
  {
   "cell_type": "code",
   "execution_count": 118,
   "metadata": {
    "scrolled": true
   },
   "outputs": [
    {
     "name": "stderr",
     "output_type": "stream",
     "text": [
      "C:\\Users\\dawid\\AppData\\Local\\Temp/ipykernel_2480/1084573752.py:3: SettingWithCopyWarning: \n",
      "A value is trying to be set on a copy of a slice from a DataFrame.\n",
      "Try using .loc[row_indexer,col_indexer] = value instead\n",
      "\n",
      "See the caveats in the documentation: https://pandas.pydata.org/pandas-docs/stable/user_guide/indexing.html#returning-a-view-versus-a-copy\n",
      "  original['Date']=pd.to_datetime(original['timestamp'])\n"
     ]
    },
    {
     "data": {
      "text/html": [
       "<div>\n",
       "<style scoped>\n",
       "    .dataframe tbody tr th:only-of-type {\n",
       "        vertical-align: middle;\n",
       "    }\n",
       "\n",
       "    .dataframe tbody tr th {\n",
       "        vertical-align: top;\n",
       "    }\n",
       "\n",
       "    .dataframe thead th {\n",
       "        text-align: right;\n",
       "    }\n",
       "</style>\n",
       "<table border=\"1\" class=\"dataframe\">\n",
       "  <thead>\n",
       "    <tr style=\"text-align: right;\">\n",
       "      <th></th>\n",
       "      <th>timestamp</th>\n",
       "      <th>avg_price</th>\n",
       "      <th>Date</th>\n",
       "    </tr>\n",
       "  </thead>\n",
       "  <tbody>\n",
       "    <tr>\n",
       "      <th>2425</th>\n",
       "      <td>2021-10-21</td>\n",
       "      <td>320.135005</td>\n",
       "      <td>2021-10-21</td>\n",
       "    </tr>\n",
       "    <tr>\n",
       "      <th>2426</th>\n",
       "      <td>2021-10-22</td>\n",
       "      <td>322.286857</td>\n",
       "      <td>2021-10-22</td>\n",
       "    </tr>\n",
       "    <tr>\n",
       "      <th>2427</th>\n",
       "      <td>2021-10-23</td>\n",
       "      <td>325.068853</td>\n",
       "      <td>2021-10-23</td>\n",
       "    </tr>\n",
       "    <tr>\n",
       "      <th>2428</th>\n",
       "      <td>2021-10-24</td>\n",
       "      <td>327.850849</td>\n",
       "      <td>2021-10-24</td>\n",
       "    </tr>\n",
       "    <tr>\n",
       "      <th>2429</th>\n",
       "      <td>2021-10-25</td>\n",
       "      <td>330.632845</td>\n",
       "      <td>2021-10-25</td>\n",
       "    </tr>\n",
       "  </tbody>\n",
       "</table>\n",
       "</div>"
      ],
      "text/plain": [
       "       timestamp   avg_price       Date\n",
       "2425  2021-10-21  320.135005 2021-10-21\n",
       "2426  2021-10-22  322.286857 2021-10-22\n",
       "2427  2021-10-23  325.068853 2021-10-23\n",
       "2428  2021-10-24  327.850849 2021-10-24\n",
       "2429  2021-10-25  330.632845 2021-10-25"
      ]
     },
     "execution_count": 118,
     "metadata": {},
     "output_type": "execute_result"
    }
   ],
   "source": [
    "original=[]\n",
    "original = df[['timestamp', 'avg_price']]\n",
    "original['Date']=pd.to_datetime(original['timestamp'])\n",
    "original = original[original['Date'] >= '2021-7-15']\n",
    "original.tail()"
   ]
  },
  {
   "cell_type": "code",
   "execution_count": 119,
   "metadata": {},
   "outputs": [
    {
     "name": "stderr",
     "output_type": "stream",
     "text": [
      "c:\\users\\dawid\\appdata\\local\\programs\\python\\python38\\lib\\site-packages\\seaborn\\_decorators.py:36: FutureWarning: Pass the following variables as keyword args: x, y. From version 0.12, the only valid positional argument will be `data`, and passing other arguments without an explicit keyword will result in an error or misinterpretation.\n",
      "  warnings.warn(\n",
      "c:\\users\\dawid\\appdata\\local\\programs\\python\\python38\\lib\\site-packages\\seaborn\\_decorators.py:36: FutureWarning: Pass the following variables as keyword args: x, y. From version 0.12, the only valid positional argument will be `data`, and passing other arguments without an explicit keyword will result in an error or misinterpretation.\n",
      "  warnings.warn(\n"
     ]
    },
    {
     "data": {
      "text/plain": [
       "<matplotlib.axes._subplots.AxesSubplot at 0x2862aac24f0>"
      ]
     },
     "execution_count": 119,
     "metadata": {},
     "output_type": "execute_result"
    },
    {
     "data": {
      "image/png": "[encoded data removed]",
      "text/plain": [
       "<Figure size 432x288 with 1 Axes>"
      ]
     },
     "metadata": {
      "needs_background": "light"
     },
     "output_type": "display_data"
    }
   ],
   "source": [
    "sns.lineplot(original['Date'], original['avg_price'])\n",
    "sns.lineplot(df_forecast['Date'], df_forecast['avg_price'])"
   ]
  }
 ],
 "metadata": {
  "kernelspec": {
   "display_name": "Python 3",
   "language": "python",
   "name": "python3"
  },
  "language_info": {
   "codemirror_mode": {
    "name": "ipython",
    "version": 3
   },
   "file_extension": ".py",
   "mimetype": "text/x-python",
   "name": "python",
   "nbconvert_exporter": "python",
   "pygments_lexer": "ipython3",
   "version": "3.6.10"
  }
 },
 "nbformat": 4,
 "nbformat_minor": 5
}
